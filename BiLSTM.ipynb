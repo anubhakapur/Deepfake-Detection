{
 "cells": [
  {
   "cell_type": "code",
   "execution_count": null,
   "metadata": {},
   "outputs": [],
   "source": [
    "import os\n",
    "import librosa\n",
    "import numpy as np\n",
    "\n",
    "SR = 16000\n",
    "N_MELS = 64\n",
    "DURATION = 3  # seconds\n",
    "SAMPLES = SR * DURATION\n",
    "CLASS_MAP = {\"real\": 0, \"fake\": 1}\n",
    "\n",
    "#Feature Extraction\n",
    "def extract_log_mel(path):\n",
    "    y, _ = librosa.load(path, sr=SR, mono=True)\n",
    "    y = librosa.util.fix_length(y, size=SAMPLES)\n",
    "    mel_spec = librosa.feature.melspectrogram(y=y, sr=SR, n_mels=N_MELS)\n",
    "    log_mel = librosa.power_to_db(mel_spec, ref=np.max)\n",
    "    return log_mel\n",
    "\n",
    "#Load Dataset into Arrays\n",
    "def load_dataset(split_dir):\n",
    "    X, y = [], []\n",
    "    for label in CLASS_MAP:\n",
    "        class_dir = os.path.join(split_dir, label)\n",
    "        if not os.path.exists(class_dir):\n",
    "            continue\n",
    "        files = [f for f in os.listdir(class_dir) if f.endswith(\".wav\")]\n",
    "        for fname in files:\n",
    "            fpath = os.path.join(class_dir, fname)\n",
    "            try:\n",
    "                log_mel = extract_log_mel(fpath)\n",
    "                X.append(log_mel)\n",
    "                y.append(CLASS_MAP[label])\n",
    "            except:\n",
    "                continue\n",
    "    X = np.array(X)\n",
    "    y = np.array(y)\n",
    "    X = X[..., np.newaxis]\n",
    "    return X, y"
   ]
  },
  {
   "cell_type": "code",
   "execution_count": null,
   "metadata": {},
   "outputs": [],
   "source": [
    "import os\n",
    "import numpy as np\n",
    "import tensorflow as tf\n",
    "from tensorflow.keras import layers, models, callbacks\n",
    "import matplotlib.pyplot as plt\n",
    "import seaborn as sns\n",
    "from sklearn.metrics import confusion_matrix, classification_report\n",
    "import librosa\n",
    "import librosa.display\n"
   ]
  },
  {
   "cell_type": "code",
   "execution_count": null,
   "metadata": {},
   "outputs": [],
   "source": [
    "#STEP 1: Reshape Data\n",
    "def reshape_data(X):\n",
    "    if X.ndim == 4 and X.shape[-1] == 1:\n",
    "        return X.squeeze(-1)  # (batch, time, freq)\n",
    "    elif X.ndim == 3:\n",
    "        return X  \n",
    "    else:\n",
    "        raise ValueError(f\"Unexpected input shape: {X.shape}\")\n"
   ]
  },
  {
   "cell_type": "code",
   "execution_count": null,
   "metadata": {},
   "outputs": [],
   "source": [
    "\n",
    "#STEP 2: Build Model\n",
    "def build_bilstm_model(input_shape):\n",
    "    model = models.Sequential([\n",
    "        layers.Input(shape=input_shape),\n",
    "        layers.Bidirectional(layers.LSTM(128, return_sequences=True)),\n",
    "        layers.Dropout(0.3),\n",
    "        layers.Bidirectional(layers.LSTM(64)),\n",
    "        layers.Dropout(0.3),\n",
    "        layers.Dense(128, activation='relu'),\n",
    "        layers.Dropout(0.3),\n",
    "        layers.Dense(64, activation='relu'),\n",
    "        layers.BatchNormalization(),\n",
    "        layers.Dropout(0.4),\n",
    "        layers.Dense(1, activation='sigmoid')\n",
    "    ])\n",
    "    model.compile(\n",
    "        optimizer=tf.keras.optimizers.Adam(learning_rate=1e-4, clipnorm=1.0),\n",
    "        loss='binary_crossentropy',\n",
    "        metrics=['accuracy', tf.keras.metrics.AUC(name='auc')]\n",
    "    )\n",
    "    return model\n"
   ]
  },
  {
   "cell_type": "code",
   "execution_count": null,
   "metadata": {},
   "outputs": [],
   "source": [
    "\n",
    "#STEP 3: Train Model\n",
    "def train_model(X_train, y_train, X_val, y_val, model_path=\"BiLSTM.keras\"):\n",
    "    input_shape = X_train.shape[1:]\n",
    "    model = build_bilstm_model(input_shape)\n",
    "    model.summary()\n",
    "    early_stop = callbacks.EarlyStopping(monitor='val_loss', patience=5, restore_best_weights=True)\n",
    "    reduce_lr = callbacks.ReduceLROnPlateau(monitor='val_loss', factor=0.5, patience=2, min_lr=1e-6)\n",
    "    history = model.fit(\n",
    "        X_train, y_train,\n",
    "        validation_data=(X_val, y_val),\n",
    "        epochs=10,\n",
    "        batch_size=32,\n",
    "        callbacks=[early_stop, reduce_lr],\n",
    "        shuffle=True\n",
    "    )\n",
    "    model.save(model_path)\n",
    "    return model, history\n",
    "\n"
   ]
  },
  {
   "cell_type": "code",
   "execution_count": null,
   "metadata": {},
   "outputs": [],
   "source": [
    "def evaluate_model(model, X_test, y_test):\n",
    "    y_pred_prob = model.predict(X_test)\n",
    "    y_pred = (y_pred_prob > 0.5).astype(int).flatten()\n",
    "    test_loss, test_acc, test_auc = model.evaluate(X_test, y_test, verbose=0)\n",
    "    print(\"\\n===== Model Evaluation =====\")\n",
    "    print(f\"Test Accuracy: {test_acc:.4f}\")\n",
    "    print(f\"Test Loss: {test_loss:.4f}\")\n",
    "    print(\"\\nClassification Report:\")\n",
    "    print(classification_report(y_test, y_pred, target_names=[\"Real\", \"Fake\"]))\n",
    "    return y_pred, y_pred_prob\n",
    "\n"
   ]
  },
  {
   "cell_type": "code",
   "execution_count": null,
   "metadata": {},
   "outputs": [],
   "source": [
    "np.random.seed(42)\n",
    "tf.random.set_seed(42)\n",
    "base_path = \"./data_preprocessed\"\n",
    "print(\"Loading training data...\")\n",
    "X_train, y_train = load_dataset(os.path.join(base_path, \"training\"))\n",
    "print(f\"Training set: {X_train.shape}, {y_train.shape}, Class distribution: {np.bincount(y_train)}\")\n",
    "print(\"\\nLoading validation data...\")\n",
    "X_val, y_val = load_dataset(os.path.join(base_path, \"validation\"))\n",
    "print(f\"Validation set: {X_val.shape}, {y_val.shape}, Class distribution: {np.bincount(y_val)}\")\n",
    "print(\"\\nLoading testing data...\")\n",
    "X_test, y_test = load_dataset(os.path.join(base_path, \"testing\"))\n",
    "print(f\"Testing set: {X_test.shape}, {y_test.shape}, Class distribution: {np.bincount(y_test)}\")\n",
    "# Compute normalization stats from training set only\n",
    "mean = np.mean(X_train)\n",
    "std = np.std(X_train)\n",
    "\n",
    "# Normalize all splits using train stats\n",
    "X_train = (X_train - mean) / std\n",
    "X_val   = (X_val - mean) / std\n",
    "X_test  = (X_test - mean) / std\n",
    "\n",
    "# Example: reshape your datasets\n",
    "X_train = reshape_data(X_train)\n",
    "X_val = reshape_data(X_val)\n",
    "X_test = reshape_data(X_test)"
   ]
  },
  {
   "cell_type": "code",
   "execution_count": null,
   "metadata": {},
   "outputs": [],
   "source": [
    "#STEP 4: Call Training\n",
    "print(\"\\nTraining the model...\")\n",
    "model, history = train_model(X_train, y_train, X_val, y_val)\n"
   ]
  },
  {
   "cell_type": "code",
   "execution_count": null,
   "metadata": {},
   "outputs": [],
   "source": [
    "#Evaluate model\n",
    "print(\"\\nEvaluating model...\")\n",
    "y_pred, y_pred_prob = evaluate_model(model, X_test, y_test)\n"
   ]
  },
  {
   "cell_type": "code",
   "execution_count": null,
   "metadata": {},
   "outputs": [],
   "source": [
    "import matplotlib.pyplot as plt\n",
    "import numpy as np"
   ]
  },
  {
   "cell_type": "code",
   "execution_count": null,
   "metadata": {},
   "outputs": [],
   "source": [
    "def plot_confusion_matrix(y_true, y_pred, labels):\n",
    "    # Confusion matrix\n",
    "    cm = confusion_matrix(y_test, y_pred)\n",
    "    plt.figure(figsize=(8, 6))\n",
    "    sns.heatmap(cm, annot=True, fmt='d', cmap='Blues', \n",
    "                xticklabels=[\"Real\", \"Fake\"], \n",
    "                yticklabels=[\"Real\", \"Fake\"])\n",
    "    plt.ylabel('True Label')\n",
    "    plt.xlabel('Predicted Label')\n",
    "    plt.title('Confusion Matrix')\n",
    "    plt.show()\n",
    "    plt.savefig('cnn_confusion_matrix.png')\n",
    "    plt.close()\n",
    "\n",
    "plot_confusion_matrix(y_test, y_pred, [\"Real\", \"Fake\"])"
   ]
  },
  {
   "cell_type": "code",
   "execution_count": null,
   "metadata": {},
   "outputs": [],
   "source": [
    "# 1. Plot training history\n",
    "def plot_training_history(history):\n",
    "    print(\"\\nPlotting training history...\")\n",
    "    plt.figure(figsize=(10, 5))\n",
    "    # Plot Loss curves\n",
    "    plt.subplot(1, 2, 1)\n",
    "    plt.plot(history.history['loss'], label='Training Loss')\n",
    "    plt.plot(history.history['val_loss'], label='Validation Loss')\n",
    "    plt.title('Model Loss')\n",
    "    plt.xlabel('Epoch')\n",
    "    plt.ylabel('Loss')\n",
    "    plt.legend()\n",
    "    # Plot Accuracy curves\n",
    "    plt.subplot(1, 2, 2)\n",
    "    plt.plot(history.history['accuracy'], label='Training Accuracy')\n",
    "    plt.plot(history.history['val_accuracy'], label='Validation Accuracy')\n",
    "    plt.title('Model Accuracy')\n",
    "    plt.xlabel('Epoch')\n",
    "    plt.ylabel('Accuracy')\n",
    "    plt.legend()\n",
    "\n",
    "    plt.tight_layout()\n",
    "    plt.show()  \n",
    "    plt.savefig('BiLSTM_training_history.png')  \n",
    "    plt.close()\n",
    "\n",
    "# Plot training history\n",
    "plot_training_history(history)\n"
   ]
  }
 ],
 "metadata": {
  "kernelspec": {
   "display_name": "base",
   "language": "python",
   "name": "python3"
  },
  "language_info": {
   "codemirror_mode": {
    "name": "ipython",
    "version": 3
   },
   "file_extension": ".py",
   "mimetype": "text/x-python",
   "name": "python",
   "nbconvert_exporter": "python",
   "pygments_lexer": "ipython3",
   "version": "3.11.5"
  }
 },
 "nbformat": 4,
 "nbformat_minor": 2
}
